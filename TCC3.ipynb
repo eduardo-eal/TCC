{
  "nbformat": 4,
  "nbformat_minor": 0,
  "metadata": {
    "colab": {
      "name": "TCC3.ipynb",
      "provenance": [],
      "collapsed_sections": [],
      "mount_file_id": "1d3Wxp0IISwV4DLgsBNqAqTzcre5BPBg-",
      "authorship_tag": "ABX9TyPd611By49ehY1A63DbhXAs",
      "include_colab_link": true
    },
    "kernelspec": {
      "name": "python3",
      "display_name": "Python 3"
    },
    "language_info": {
      "name": "python"
    },
    "accelerator": "GPU"
  },
  "cells": [
    {
      "cell_type": "markdown",
      "metadata": {
        "id": "view-in-github",
        "colab_type": "text"
      },
      "source": [
        "<a href=\"https://colab.research.google.com/github/eduardo-eal/TCC/blob/main/TCC3.ipynb\" target=\"_parent\"><img src=\"https://colab.research.google.com/assets/colab-badge.svg\" alt=\"Open In Colab\"/></a>"
      ]
    },
    {
      "cell_type": "markdown",
      "source": [
        "#TCC Módulo C- Eduardo Amaral Lopes\n"
      ],
      "metadata": {
        "id": "n0YZpn8s-Al1"
      }
    },
    {
      "cell_type": "markdown",
      "source": [
        "#Recuperar arquivos tf-idf"
      ],
      "metadata": {
        "id": "z6_H6fuI4oEu"
      }
    },
    {
      "cell_type": "code",
      "source": [
        "import pickle\n",
        "import pandas as pd\n",
        "pathScriptFeatureStore= '/content/drive/MyDrive/PUC/16 - Projeto Integrado – Inteligência Artificial e Aprendizado de Máquina (2021)'\n",
        "\n",
        "#recuperar classes\n",
        "\n",
        "y_treino = pd.read_csv(pathScriptFeatureStore+'/y_treino.csv')\n",
        "y_teste = pd.read_csv(pathScriptFeatureStore+'/y_teste.csv')\n",
        "\n",
        "#recuperar TF-IDF\n",
        "\n",
        "infile1 = open(pathScriptFeatureStore+'/X_treino_tfidf.sm','rb')\n",
        "X_treino_tfidf = pickle.load(infile1)\n",
        "infile1.close()\n",
        "\n",
        "infile2 = open(pathScriptFeatureStore+'/X_teste_tfidf.sm','rb')\n",
        "X_teste_tfidf = pickle.load(infile2)\n",
        "infile2.close()\n",
        "\n",
        "#recuperar TF-IDF em 3D para LSTM - (amostras,observações(1),features)\n",
        "\n",
        "infile3 = open(pathScriptFeatureStore+'/X_treino_tfidf_3Darray.sm','rb')\n",
        "X_treino_tfidf_3Darray = pickle.load(infile3)\n",
        "infile3.close()\n",
        "\n",
        "infile4 = open(pathScriptFeatureStore+'/X_teste_tfidf_3Darray.sm','rb')\n",
        "X_teste_tfidf_3Darray = pickle.load(infile4)\n",
        "infile4.close()"
      ],
      "metadata": {
        "id": "af-nP4JG4sNr"
      },
      "execution_count": 1,
      "outputs": []
    },
    {
      "cell_type": "markdown",
      "source": [
        "#Aplicação dos modelos"
      ],
      "metadata": {
        "id": "7FOyXZPiSqQ4"
      }
    },
    {
      "cell_type": "markdown",
      "source": [
        "##Naive Bayes\n",
        "\n",
        "O classificador multinomial Naïve Bayes é um dos modelos mais populares no aprendizado de máquina. Tomando como premissa a suposição de independência entre as variáveis do problema, o modelo de Naïve Bayes realiza uma classificação probabilística de observações, caracterizando-as em classes pré-definidas, no nosso caso notícias verdadeiras ou falsas. Esse classificador se ajusta melhor a features inteiras, como contadores de palavras por exemplo, mas como a documentação do sklearn informa que na prática funciona bem também com tf-idf, vamos usar método para todos os algoritmos. \n",
        "O único parâmetro que vamos ajustar será alpha=0.1 para incluir uma pequena suavização no modelo. (o padrão é alpha=1)"
      ],
      "metadata": {
        "id": "51_Jmll2Z8-U"
      }
    },
    {
      "cell_type": "code",
      "source": [
        "from sklearn.naive_bayes import MultinomialNB \n",
        "\n",
        "naive_bayes = MultinomialNB(alpha=0.1) \n",
        "naive_bayes.fit(X_treino_tfidf, y_treino)\n",
        "\n",
        "y_predicao = naive_bayes.predict(X_teste_tfidf)"
      ],
      "metadata": {
        "id": "AFVXxtGVcgNk",
        "colab": {
          "base_uri": "https://localhost:8080/"
        },
        "outputId": "6111d26b-c8d3-49a2-c10c-b7631af2ddce"
      },
      "execution_count": 2,
      "outputs": [
        {
          "output_type": "stream",
          "name": "stderr",
          "text": [
            "/usr/local/lib/python3.7/dist-packages/sklearn/utils/validation.py:993: DataConversionWarning: A column-vector y was passed when a 1d array was expected. Please change the shape of y to (n_samples, ), for example using ravel().\n",
            "  y = column_or_1d(y, warn=True)\n"
          ]
        }
      ]
    },
    {
      "cell_type": "code",
      "source": [
        "from sklearn.metrics import confusion_matrix\n",
        "import matplotlib.pyplot as plt\n",
        "import seaborn as sns\n",
        "\n",
        "def imprimir_matriz_confusao(y_teste, y_predicao):\n",
        "  cm = confusion_matrix(y_teste, y_predicao , labels=[0, 1])\n",
        "  ax= plt.subplot()\n",
        "  sns.heatmap(cm, annot=True, ax= ax, fmt='d' )\n",
        "  ax.set_ylabel('y_teste')\n",
        "  ax.set_xlabel('y_predicao')"
      ],
      "metadata": {
        "id": "plum1sDINRM0"
      },
      "execution_count": 3,
      "outputs": []
    },
    {
      "cell_type": "code",
      "source": [
        "imprimir_matriz_confusao(y_teste, y_predicao)"
      ],
      "metadata": {
        "colab": {
          "base_uri": "https://localhost:8080/",
          "height": 280
        },
        "id": "4CgACaGoeoFW",
        "outputId": "8e4c96b2-0104-4d73-fcb6-001d1715da18"
      },
      "execution_count": 4,
      "outputs": [
        {
          "output_type": "display_data",
          "data": {
            "text/plain": [
              "<Figure size 432x288 with 2 Axes>"
            ],
            "image/png": "[encoded data removed]"
          },
          "metadata": {
            "needs_background": "light"
          }
        }
      ]
    },
    {
      "cell_type": "code",
      "source": [
        "metricas = pd.DataFrame(columns=['modelo','accuracy', 'precision', 'recall', 'f1'])\n"
      ],
      "metadata": {
        "id": "0nrrneFuTNdG"
      },
      "execution_count": 5,
      "outputs": []
    },
    {
      "cell_type": "code",
      "source": [
        "from sklearn.metrics import accuracy_score, f1_score, precision_score, recall_score\n",
        "\n",
        "\n",
        "def get_metrics(y_teste, y_predicao):  \n",
        "    precision = round(precision_score(y_teste, y_predicao, pos_label=1, average='macro'),4)             \n",
        "    recall = round(recall_score(y_teste, y_predicao, pos_label=1, average='macro'),4)\n",
        "    f1 = round(f1_score(y_teste, y_predicao, pos_label=1, average='macro'),4)\n",
        "    accuracy = round(accuracy_score(y_teste, y_predicao),4)\n",
        "    return accuracy, precision, recall, f1"
      ],
      "metadata": {
        "id": "gC_lWKpqS7Xq"
      },
      "execution_count": 6,
      "outputs": []
    },
    {
      "cell_type": "code",
      "source": [
        "accuracy, precision, recall, f1 = get_metrics(y_teste, y_predicao)\n",
        "metricas.loc[len(metricas)] = ['MultinomialNB', accuracy, precision, recall, f1]"
      ],
      "metadata": {
        "id": "yS-J2A_jWOZQ"
      },
      "execution_count": 7,
      "outputs": []
    },
    {
      "cell_type": "markdown",
      "source": [
        "##XGBoost\n",
        "XGBoost é uma biblioteca otimizada e distribuída de gradient boosting projetada para ser altamente eficiente, flexível e portável. Ele implementa algoritmos de machine learning baseados em árvores de decisão no framework de Gradiente Boosting.\n",
        "Utilizamos os seguintes parâmetros baseados em outros casos da utilização de XGBoost para classificação de textos:\n",
        "\n",
        "max_depth=6 \n",
        "profundidade máxima da árvore\n",
        "\n",
        "n_estimators=100\n",
        "Número de estimadores/árvores construidas no treinamento\n",
        "\n",
        "colsample_bytree=0.8\n",
        "Taxa do subconjunto a ser utilizado ao construir cada árvore\n",
        "\n",
        "subsample=0.8\n",
        "Taxa do subconjunto a ser utilizado na instância de treinamento\n",
        "\n",
        "nthread=10\n",
        "Número de thread utilizadas ao paralelizar\n",
        "\n",
        "learning_rate=0.3\n",
        "Taxa de aprendizado"
      ],
      "metadata": {
        "id": "TKsmYhrzYW91"
      }
    },
    {
      "cell_type": "code",
      "source": [
        "import xgboost as xgb\n",
        "\n",
        "\n",
        "modelo_xgboost = xgb.XGBClassifier(max_depth=6, n_estimators=100, colsample_bytree=0.8, \n",
        "                        subsample=0.8, nthread=10, learning_rate=0.3)\n",
        "modelo_xgboost.fit(X_treino_tfidf, y_treino)\n"
      ],
      "metadata": {
        "colab": {
          "base_uri": "https://localhost:8080/"
        },
        "id": "RUmH5G6QYall",
        "outputId": "581e2054-fdd5-4297-b7d8-7f3214058efd"
      },
      "execution_count": 8,
      "outputs": [
        {
          "output_type": "stream",
          "name": "stderr",
          "text": [
            "/usr/local/lib/python3.7/dist-packages/sklearn/preprocessing/_label.py:98: DataConversionWarning: A column-vector y was passed when a 1d array was expected. Please change the shape of y to (n_samples, ), for example using ravel().\n",
            "  y = column_or_1d(y, warn=True)\n",
            "/usr/local/lib/python3.7/dist-packages/sklearn/preprocessing/_label.py:133: DataConversionWarning: A column-vector y was passed when a 1d array was expected. Please change the shape of y to (n_samples, ), for example using ravel().\n",
            "  y = column_or_1d(y, warn=True)\n"
          ]
        },
        {
          "output_type": "execute_result",
          "data": {
            "text/plain": [
              "XGBClassifier(colsample_bytree=0.8, learning_rate=0.3, max_depth=6, nthread=10,\n",
              "              subsample=0.8)"
            ]
          },
          "metadata": {},
          "execution_count": 8
        }
      ]
    },
    {
      "cell_type": "code",
      "source": [
        "y_predicao = modelo_xgboost.predict(X_teste_tfidf)\n",
        "y_predicao"
      ],
      "metadata": {
        "colab": {
          "base_uri": "https://localhost:8080/"
        },
        "id": "_5HJTwN7bhTC",
        "outputId": "6e6b243d-897c-4201-b7fc-173943e64706"
      },
      "execution_count": 9,
      "outputs": [
        {
          "output_type": "execute_result",
          "data": {
            "text/plain": [
              "array([0, 1, 0, ..., 0, 0, 0])"
            ]
          },
          "metadata": {},
          "execution_count": 9
        }
      ]
    },
    {
      "cell_type": "code",
      "source": [
        "imprimir_matriz_confusao(y_teste, y_predicao)"
      ],
      "metadata": {
        "colab": {
          "base_uri": "https://localhost:8080/",
          "height": 280
        },
        "id": "6zdG_mG7eu8u",
        "outputId": "fa716c62-6b90-49bf-e993-2045f7e8005b"
      },
      "execution_count": 10,
      "outputs": [
        {
          "output_type": "display_data",
          "data": {
            "text/plain": [
              "<Figure size 432x288 with 2 Axes>"
            ],
            "image/png": "[encoded data removed]"
          },
          "metadata": {
            "needs_background": "light"
          }
        }
      ]
    },
    {
      "cell_type": "code",
      "source": [
        "accuracy, precision, recall, f1 = get_metrics(y_teste, y_predicao)\n",
        "metricas.loc[len(metricas)] = ['XGBoost', accuracy, precision, recall, f1]"
      ],
      "metadata": {
        "id": "ybzXvfQ2aVFy"
      },
      "execution_count": 11,
      "outputs": []
    },
    {
      "cell_type": "markdown",
      "source": [
        "##LSTM\n",
        "\n",
        "LSTM ou Long Short Term Memory é um tipo de rede neural recorrente(RNN) que é usada em diversos cenários de Processamento de Linguagem Natural.\n",
        "Para o construir o modelo, como estamos utilizando o mesmo encoding tf-idf para os 3 modelos (apenas adaptando o formato 3D para a LSTM), não utilizaremos a camada de Encoding. Serão usadas apenas duas camadas: Uma LSTM e uma camada Densa com ativação sigmoid. Assim como nos outros modelos, nos baseamos na parametrização de modelos usados para classificação de textos e visamos manter o modelo simples.\n",
        "\n",
        "Usaremos os seguintes parâmetros:\n",
        "\n",
        "Camada LSTM:\n",
        "\n",
        "input_shape=(1,FEATURES) \n",
        "Formato da entrada com número de observações no tempo, nessa caso apenas uma e número de features que foi limitado em 1000 para todos os modelos\n",
        "\n",
        "units=4 \n",
        "Dimensionalidade da saída\n",
        "\n",
        "dropout=0.1\n",
        "Taxa de descarte\n",
        "\n",
        "Camada Densa:\n",
        "\n",
        "units=1\n",
        "Dimensionalidade da saída\n",
        "\n",
        "activation='sigmoid'\n",
        "Função de ativação\n",
        "\n",
        "Parâmetros para compilação do modelo:\n",
        "\n",
        "optimizer='adam'\n",
        "Otimizado a ser utilizado \n",
        "\n",
        "loss='binary_crossentropy'\n",
        "Medida de perda utilizada no processo de aprendizagem\n",
        "\n",
        "metrics=['accuracy']\n",
        "métrica a ser obtida\n"
      ],
      "metadata": {
        "id": "y3Z7jhAUQLQR"
      }
    },
    {
      "cell_type": "code",
      "source": [
        "import tensorflow as tf\n",
        "from tensorflow import keras"
      ],
      "metadata": {
        "id": "e_v6YGHqQQbl"
      },
      "execution_count": 12,
      "outputs": []
    },
    {
      "cell_type": "code",
      "source": [
        "FEATURES = 1000"
      ],
      "metadata": {
        "id": "P22dmAXpRIdx"
      },
      "execution_count": 13,
      "outputs": []
    },
    {
      "cell_type": "code",
      "source": [
        "modelo_lstm = keras.Sequential()\n",
        "modelo_lstm.add(keras.layers.LSTM(input_shape=(1,FEATURES), units=4, dropout=0.1))\n",
        "modelo_lstm.add(keras.layers.Dense(1,activation='sigmoid'))\n",
        "modelo_lstm.compile(optimizer='adam',loss='binary_crossentropy',metrics=['accuracy'])\n",
        "modelo_lstm.summary()"
      ],
      "metadata": {
        "colab": {
          "base_uri": "https://localhost:8080/"
        },
        "id": "eHwEIL5PQPMA",
        "outputId": "d7cbe973-0993-431d-f831-b49cd050bee6"
      },
      "execution_count": 14,
      "outputs": [
        {
          "output_type": "stream",
          "name": "stdout",
          "text": [
            "Model: \"sequential\"\n",
            "_________________________________________________________________\n",
            " Layer (type)                Output Shape              Param #   \n",
            "=================================================================\n",
            " lstm (LSTM)                 (None, 4)                 16080     \n",
            "                                                                 \n",
            " dense (Dense)               (None, 1)                 5         \n",
            "                                                                 \n",
            "=================================================================\n",
            "Total params: 16,085\n",
            "Trainable params: 16,085\n",
            "Non-trainable params: 0\n",
            "_________________________________________________________________\n"
          ]
        }
      ]
    },
    {
      "cell_type": "code",
      "source": [
        "historico = modelo_lstm.fit(X_treino_tfidf_3Darray, y_treino, epochs=20,batch_size=64, verbose=1, validation_data=(X_teste_tfidf_3Darray,y_teste))\n"
      ],
      "metadata": {
        "id": "eRsNHAfURjSR",
        "colab": {
          "base_uri": "https://localhost:8080/"
        },
        "outputId": "11ae8d58-fb61-4cf3-8cfe-9b64e9f32d7d"
      },
      "execution_count": 15,
      "outputs": [
        {
          "output_type": "stream",
          "name": "stdout",
          "text": [
            "Epoch 1/20\n",
            "527/527 [==============================] - 10s 7ms/step - loss: 0.4276 - accuracy: 0.8914 - val_loss: 0.2256 - val_accuracy: 0.9454\n",
            "Epoch 2/20\n",
            "527/527 [==============================] - 2s 5ms/step - loss: 0.1735 - accuracy: 0.9535 - val_loss: 0.1353 - val_accuracy: 0.9621\n",
            "Epoch 3/20\n",
            "527/527 [==============================] - 3s 5ms/step - loss: 0.1181 - accuracy: 0.9644 - val_loss: 0.1035 - val_accuracy: 0.9681\n",
            "Epoch 4/20\n",
            "527/527 [==============================] - 3s 6ms/step - loss: 0.0958 - accuracy: 0.9693 - val_loss: 0.0874 - val_accuracy: 0.9708\n",
            "Epoch 5/20\n",
            "527/527 [==============================] - 3s 5ms/step - loss: 0.0833 - accuracy: 0.9721 - val_loss: 0.0786 - val_accuracy: 0.9723\n",
            "Epoch 6/20\n",
            "527/527 [==============================] - 3s 5ms/step - loss: 0.0768 - accuracy: 0.9747 - val_loss: 0.0728 - val_accuracy: 0.9736\n",
            "Epoch 7/20\n",
            "527/527 [==============================] - 2s 5ms/step - loss: 0.0712 - accuracy: 0.9754 - val_loss: 0.0691 - val_accuracy: 0.9746\n",
            "Epoch 8/20\n",
            "527/527 [==============================] - 2s 5ms/step - loss: 0.0669 - accuracy: 0.9770 - val_loss: 0.0667 - val_accuracy: 0.9751\n",
            "Epoch 9/20\n",
            "527/527 [==============================] - 3s 5ms/step - loss: 0.0633 - accuracy: 0.9786 - val_loss: 0.0646 - val_accuracy: 0.9763\n",
            "Epoch 10/20\n",
            "527/527 [==============================] - 3s 5ms/step - loss: 0.0614 - accuracy: 0.9784 - val_loss: 0.0631 - val_accuracy: 0.9773\n",
            "Epoch 11/20\n",
            "527/527 [==============================] - 3s 5ms/step - loss: 0.0610 - accuracy: 0.9794 - val_loss: 0.0623 - val_accuracy: 0.9769\n",
            "Epoch 12/20\n",
            "527/527 [==============================] - 3s 5ms/step - loss: 0.0596 - accuracy: 0.9788 - val_loss: 0.0617 - val_accuracy: 0.9777\n",
            "Epoch 13/20\n",
            "527/527 [==============================] - 2s 5ms/step - loss: 0.0569 - accuracy: 0.9803 - val_loss: 0.0612 - val_accuracy: 0.9773\n",
            "Epoch 14/20\n",
            "527/527 [==============================] - 2s 5ms/step - loss: 0.0587 - accuracy: 0.9792 - val_loss: 0.0605 - val_accuracy: 0.9780\n",
            "Epoch 15/20\n",
            "527/527 [==============================] - 2s 5ms/step - loss: 0.0569 - accuracy: 0.9799 - val_loss: 0.0605 - val_accuracy: 0.9779\n",
            "Epoch 16/20\n",
            "527/527 [==============================] - 2s 5ms/step - loss: 0.0569 - accuracy: 0.9801 - val_loss: 0.0604 - val_accuracy: 0.9780\n",
            "Epoch 17/20\n",
            "527/527 [==============================] - 3s 5ms/step - loss: 0.0561 - accuracy: 0.9805 - val_loss: 0.0598 - val_accuracy: 0.9790\n",
            "Epoch 18/20\n",
            "527/527 [==============================] - 3s 5ms/step - loss: 0.0567 - accuracy: 0.9798 - val_loss: 0.0593 - val_accuracy: 0.9791\n",
            "Epoch 19/20\n",
            "527/527 [==============================] - 2s 5ms/step - loss: 0.0546 - accuracy: 0.9808 - val_loss: 0.0596 - val_accuracy: 0.9784\n",
            "Epoch 20/20\n",
            "527/527 [==============================] - 2s 5ms/step - loss: 0.0539 - accuracy: 0.9813 - val_loss: 0.0592 - val_accuracy: 0.9794\n"
          ]
        }
      ]
    },
    {
      "cell_type": "code",
      "source": [
        "y_predicao = modelo_lstm.predict(X_teste_tfidf_3Darray)"
      ],
      "metadata": {
        "id": "yNVvALTZT0R7"
      },
      "execution_count": 16,
      "outputs": []
    },
    {
      "cell_type": "code",
      "source": [
        "y_predicao"
      ],
      "metadata": {
        "colab": {
          "base_uri": "https://localhost:8080/"
        },
        "id": "s2ubDig4Uk_R",
        "outputId": "6fcec31a-6307-492e-ca8d-cac82b9ac7d5"
      },
      "execution_count": 17,
      "outputs": [
        {
          "output_type": "execute_result",
          "data": {
            "text/plain": [
              "array([[6.2264954e-03],\n",
              "       [9.9917430e-01],\n",
              "       [6.9653161e-04],\n",
              "       ...,\n",
              "       [1.4274512e-04],\n",
              "       [3.6993150e-03],\n",
              "       [3.7288433e-04]], dtype=float32)"
            ]
          },
          "metadata": {},
          "execution_count": 17
        }
      ]
    },
    {
      "cell_type": "code",
      "source": [
        "import numpy as np\n",
        "\n",
        "imprimir_matriz_confusao(y_teste, np.round(y_predicao))"
      ],
      "metadata": {
        "colab": {
          "base_uri": "https://localhost:8080/",
          "height": 280
        },
        "outputId": "6bc21cca-a01c-41dc-f6e9-c1f2c5c85309",
        "id": "3fW6cKbAT0hQ"
      },
      "execution_count": 18,
      "outputs": [
        {
          "output_type": "display_data",
          "data": {
            "text/plain": [
              "<Figure size 432x288 with 2 Axes>"
            ],
            "image/png": "[encoded data removed]"
          },
          "metadata": {
            "needs_background": "light"
          }
        }
      ]
    },
    {
      "cell_type": "code",
      "source": [
        "accuracy, precision, recall, f1 = get_metrics(y_teste, np.round(y_predicao))\n",
        "metricas.loc[len(metricas)] = ['LSTM', accuracy, precision, recall, f1]"
      ],
      "metadata": {
        "id": "iJmWoCTuVnga"
      },
      "execution_count": 19,
      "outputs": []
    },
    {
      "cell_type": "code",
      "source": [
        "metricas"
      ],
      "metadata": {
        "colab": {
          "base_uri": "https://localhost:8080/",
          "height": 142
        },
        "id": "tg0SLDblJTK7",
        "outputId": "4b054ec2-2866-483c-a946-12f035b47e5e"
      },
      "execution_count": 20,
      "outputs": [
        {
          "output_type": "execute_result",
          "data": {
            "text/plain": [
              "          modelo  accuracy  precision  recall      f1\n",
              "0  MultinomialNB    0.9212     0.9215  0.9207  0.9210\n",
              "1        XGBoost    0.9873     0.9872  0.9873  0.9872\n",
              "2           LSTM    0.9794     0.9794  0.9793  0.9794"
            ],
            "text/html": [
              "\n",
              "  <div id=\"df-2257af35-e1d8-40ff-8b1a-9c226dc5e30d\">\n",
              "    <div class=\"colab-df-container\">\n",
              "      <div>\n",
              "<style scoped>\n",
              "    .dataframe tbody tr th:only-of-type {\n",
              "        vertical-align: middle;\n",
              "    }\n",
              "\n",
              "    .dataframe tbody tr th {\n",
              "        vertical-align: top;\n",
              "    }\n",
              "\n",
              "    .dataframe thead th {\n",
              "        text-align: right;\n",
              "    }\n",
              "</style>\n",
              "<table border=\"1\" class=\"dataframe\">\n",
              "  <thead>\n",
              "    <tr style=\"text-align: right;\">\n",
              "      <th></th>\n",
              "      <th>modelo</th>\n",
              "      <th>accuracy</th>\n",
              "      <th>precision</th>\n",
              "      <th>recall</th>\n",
              "      <th>f1</th>\n",
              "    </tr>\n",
              "  </thead>\n",
              "  <tbody>\n",
              "    <tr>\n",
              "      <th>0</th>\n",
              "      <td>MultinomialNB</td>\n",
              "      <td>0.9212</td>\n",
              "      <td>0.9215</td>\n",
              "      <td>0.9207</td>\n",
              "      <td>0.9210</td>\n",
              "    </tr>\n",
              "    <tr>\n",
              "      <th>1</th>\n",
              "      <td>XGBoost</td>\n",
              "      <td>0.9873</td>\n",
              "      <td>0.9872</td>\n",
              "      <td>0.9873</td>\n",
              "      <td>0.9872</td>\n",
              "    </tr>\n",
              "    <tr>\n",
              "      <th>2</th>\n",
              "      <td>LSTM</td>\n",
              "      <td>0.9794</td>\n",
              "      <td>0.9794</td>\n",
              "      <td>0.9793</td>\n",
              "      <td>0.9794</td>\n",
              "    </tr>\n",
              "  </tbody>\n",
              "</table>\n",
              "</div>\n",
              "      <button class=\"colab-df-convert\" onclick=\"convertToInteractive('df-2257af35-e1d8-40ff-8b1a-9c226dc5e30d')\"\n",
              "              title=\"Convert this dataframe to an interactive table.\"\n",
              "              style=\"display:none;\">\n",
              "        \n",
              "  <svg xmlns=\"http://www.w3.org/2000/svg\" height=\"24px\"viewBox=\"0 0 24 24\"\n",
              "       width=\"24px\">\n",
              "    <path d=\"M0 0h24v24H0V0z\" fill=\"none\"/>\n",
              "    <path d=\"M18.56 5.44l.94 2.06.94-2.06 2.06-.94-2.06-.94-.94-2.06-.94 2.06-2.06.94zm-11 1L8.5 8.5l.94-2.06 2.06-.94-2.06-.94L8.5 2.5l-.94 2.06-2.06.94zm10 10l.94 2.06.94-2.06 2.06-.94-2.06-.94-.94-2.06-.94 2.06-2.06.94z\"/><path d=\"M17.41 7.96l-1.37-1.37c-.4-.4-.92-.59-1.43-.59-.52 0-1.04.2-1.43.59L10.3 9.45l-7.72 7.72c-.78.78-.78 2.05 0 2.83L4 21.41c.39.39.9.59 1.41.59.51 0 1.02-.2 1.41-.59l7.78-7.78 2.81-2.81c.8-.78.8-2.07 0-2.86zM5.41 20L4 18.59l7.72-7.72 1.47 1.35L5.41 20z\"/>\n",
              "  </svg>\n",
              "      </button>\n",
              "      \n",
              "  <style>\n",
              "    .colab-df-container {\n",
              "      display:flex;\n",
              "      flex-wrap:wrap;\n",
              "      gap: 12px;\n",
              "    }\n",
              "\n",
              "    .colab-df-convert {\n",
              "      background-color: #E8F0FE;\n",
              "      border: none;\n",
              "      border-radius: 50%;\n",
              "      cursor: pointer;\n",
              "      display: none;\n",
              "      fill: #1967D2;\n",
              "      height: 32px;\n",
              "      padding: 0 0 0 0;\n",
              "      width: 32px;\n",
              "    }\n",
              "\n",
              "    .colab-df-convert:hover {\n",
              "      background-color: #E2EBFA;\n",
              "      box-shadow: 0px 1px 2px rgba(60, 64, 67, 0.3), 0px 1px 3px 1px rgba(60, 64, 67, 0.15);\n",
              "      fill: #174EA6;\n",
              "    }\n",
              "\n",
              "    [theme=dark] .colab-df-convert {\n",
              "      background-color: #3B4455;\n",
              "      fill: #D2E3FC;\n",
              "    }\n",
              "\n",
              "    [theme=dark] .colab-df-convert:hover {\n",
              "      background-color: #434B5C;\n",
              "      box-shadow: 0px 1px 3px 1px rgba(0, 0, 0, 0.15);\n",
              "      filter: drop-shadow(0px 1px 2px rgba(0, 0, 0, 0.3));\n",
              "      fill: #FFFFFF;\n",
              "    }\n",
              "  </style>\n",
              "\n",
              "      <script>\n",
              "        const buttonEl =\n",
              "          document.querySelector('#df-2257af35-e1d8-40ff-8b1a-9c226dc5e30d button.colab-df-convert');\n",
              "        buttonEl.style.display =\n",
              "          google.colab.kernel.accessAllowed ? 'block' : 'none';\n",
              "\n",
              "        async function convertToInteractive(key) {\n",
              "          const element = document.querySelector('#df-2257af35-e1d8-40ff-8b1a-9c226dc5e30d');\n",
              "          const dataTable =\n",
              "            await google.colab.kernel.invokeFunction('convertToInteractive',\n",
              "                                                     [key], {});\n",
              "          if (!dataTable) return;\n",
              "\n",
              "          const docLinkHtml = 'Like what you see? Visit the ' +\n",
              "            '<a target=\"_blank\" href=https://colab.research.google.com/notebooks/data_table.ipynb>data table notebook</a>'\n",
              "            + ' to learn more about interactive tables.';\n",
              "          element.innerHTML = '';\n",
              "          dataTable['output_type'] = 'display_data';\n",
              "          await google.colab.output.renderOutput(dataTable, element);\n",
              "          const docLink = document.createElement('div');\n",
              "          docLink.innerHTML = docLinkHtml;\n",
              "          element.appendChild(docLink);\n",
              "        }\n",
              "      </script>\n",
              "    </div>\n",
              "  </div>\n",
              "  "
            ]
          },
          "metadata": {},
          "execution_count": 20
        }
      ]
    },
    {
      "cell_type": "markdown",
      "source": [
        "Observando o quadro acima, verificamos que as diferentes métricas de um mesmo modelo estão muito próximas, por isso a escolha da métrica não terá impacto em nossa análise.\n",
        "Vamos usar a acuracia, que indica a performance geral do modelo, dentre todas as classificações, quantas o modelo acertou.\n",
        "\n",
        "*Multinomial Naive Bayes\n",
        "com uma acurácia de 0,92 foi o modelo que apresentou pior resultado entre os analisados. Utilizando todas as features disponíveis conseguimos um resultado um pouco melhor, de 0,96, mas visando uma melhor combinação entre acurácia e tempo de processamento, utilizamos o limite de 1000 features para todos os modelos.\n",
        "\n",
        "*LSTM\n",
        "O modelo utilizando redes LSTM obteve a segunda melhor acurácia, com 0,97.\n",
        "Considerando que não fizemos uma busca automatizada por hiperparâmetros, podemos considerar que está bem próximo de um empate com o modelo de melhor acurácia.\n",
        "\n",
        "*XGBoost\n",
        "Foi o modelo com melhor acurácia, atingindo 0,98. \n",
        "Por isso será o modelo utilizado em nosso pipeline.\n",
        "\n"
      ],
      "metadata": {
        "id": "vq6gxKJIh8xq"
      }
    },
    {
      "cell_type": "code",
      "source": [
        "#Salvando os resultados\n",
        "pathScript= '/content/drive/MyDrive/PUC/16 - Projeto Integrado – Inteligência Artificial e Aprendizado de Máquina (2021)'\n",
        "\n",
        "#Gravar classes\n",
        "\n",
        "metricas.to_csv(pathScript+'/metricas.csv', index=False)"
      ],
      "metadata": {
        "id": "7cazMlCsCApj"
      },
      "execution_count": 21,
      "outputs": []
    }
  ]
}